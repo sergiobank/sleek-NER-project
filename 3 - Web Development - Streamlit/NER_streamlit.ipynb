{
 "cells": [
  {
   "metadata": {},
   "cell_type": "markdown",
   "source": "# PART 3 - NER STREAMLIT WEB UI",
   "id": "f944ae8d3b4558b2"
  },
  {
   "metadata": {},
   "cell_type": "markdown",
   "source": "Lastly, we want to create a streamlit app in order for the end-user to have a platform that he can easily upload a .txt file and see the entities and their respective classes that the model identified.",
   "id": "5ad5770387007260"
  },
  {
   "metadata": {},
   "cell_type": "markdown",
   "source": "We'll define a python script with streamlit code. I will only copy it here in order to better organize the Jupyter Notebook, but as we did with part 2, the full .py script is in the folder, because we'll want to run it from a shell command after.",
   "id": "358668b31ddbf20"
  },
  {
   "metadata": {},
   "cell_type": "code",
   "source": [
    "import streamlit as st\n",
    "import pandas as pd\n",
    "import requests\n",
    "\n",
    "DOCKER_CONTAINER_URL = \"http://localhost:8000/ner\"\n",
    "\n",
    "# Align logo and user instructions using streamlit columns\n",
    "col1, col2, col3 = st.columns([1, 2, 1])\n",
    "with col2:  # center col\n",
    "    st.image(\"sleek_logo.png\", width=400)\n",
    "\n",
    "    st.title(\"NER App\")\n",
    "\n",
    "    st.write(\"Welcome to Sleek's NER App!\")\n",
    "    st.write(\"\")\n",
    "    st.write(\"Upload a text file to extract named entities:\")\n",
    "\n",
    "    # File upload widget\n",
    "    uploaded_file = st.file_uploader(label='Choose text file', type=\"txt\")\n",
    "\n",
    "if uploaded_file is not None:\n",
    "\n",
    "    file_contents = uploaded_file.read().decode(\"utf-8\")\n",
    "\n",
    "    # Limiting display of the file contents\n",
    "    max_display_length = 2000\n",
    "    if len(file_contents) > max_display_length:\n",
    "        st.write(\"File content (truncated for display):\")\n",
    "        st.write(file_contents[:max_display_length] + \"...\")\n",
    "    else:\n",
    "        st.write(\"File content:\")\n",
    "        st.write(file_contents)\n",
    "\n",
    "    # Sending text to the NER service running in the Docker container\n",
    "    try:\n",
    "        response = requests.post(\n",
    "            DOCKER_CONTAINER_URL,\n",
    "            json={\"text\": file_contents}\n",
    "        )\n",
    "        # Raising error if the request unsuccessful\n",
    "        response.raise_for_status()\n",
    "\n",
    "        ner_results = response.json()\n",
    "\n",
    "        # Checking if there are entities in the response\n",
    "        if ner_results and \"entities\" in ner_results:\n",
    "            data = {\n",
    "                \"Entity Class\": [entity[\"entity_group\"] for entity in ner_results[\"entities\"]],\n",
    "                \"Entity\": [entity[\"word\"] for entity in ner_results[\"entities\"]]\n",
    "            }\n",
    "\n",
    "            # Displaying as table\n",
    "            df = pd.DataFrame(data)\n",
    "            st.write(\"Entities Identified:\")\n",
    "            st.table(df)\n",
    "        else:\n",
    "            st.write(\"No entities found :(\")\n",
    "\n",
    "    except requests.exceptions.RequestException as e:\n",
    "        st.error(f\"Error during NER processing: {e}\")\n",
    "\n",
    "# Footer\n",
    "st.write(\"---\")\n",
    "st.write(\"Made by Sergio Bank for Sleek\")\n"
   ],
   "id": "58f802e879f04505",
   "outputs": [],
   "execution_count": null
  },
  {
   "metadata": {},
   "cell_type": "markdown",
   "source": "The final step is to run our streamlit app! - in dark mode of course, because it's sleeker ;)",
   "id": "ae16c9d751ff7d84"
  },
  {
   "metadata": {
    "jupyter": {
     "is_executing": true
    },
    "ExecuteTime": {
     "start_time": "2024-10-16T06:56:13.705210Z"
    }
   },
   "cell_type": "code",
   "source": "! streamlit run ner_streamlit_app.py --theme.base dark",
   "id": "3ebe688118b04c43",
   "outputs": [
    {
     "name": "stdout",
     "output_type": "stream",
     "text": [
      "\u001B[0m\r\n",
      "\u001B[34m\u001B[1m  You can now view your Streamlit app in your browser.\u001B[0m\r\n",
      "\u001B[0m\r\n",
      "\u001B[34m  Local URL: \u001B[0m\u001B[1mhttp://localhost:8501\u001B[0m\r\n",
      "\u001B[34m  Network URL: \u001B[0m\u001B[1mhttp://192.168.1.110:8501\u001B[0m\r\n",
      "\u001B[0m\r\n",
      "\u001B[34m\u001B[1m  For better performance, install the Watchdog module:\u001B[0m\r\n",
      "\r\n",
      "  $ xcode-select --install\r\n",
      "  $ pip install watchdog\r\n",
      "            \u001B[0m\r\n"
     ]
    }
   ],
   "execution_count": null
  },
  {
   "metadata": {},
   "cell_type": "markdown",
   "source": [
    "It is accessible on http://localhost:8501\n",
    "\n",
    "There is a 'example_sentences.txt' file with some sentences that I tried uploading, and here's the result:"
   ],
   "id": "9f22ab5bf368ee27"
  },
  {
   "metadata": {},
   "cell_type": "markdown",
   "source": [
    "![title](result_screenshot_1.png)\n",
    "![title](result_screenshot_2.png)"
   ],
   "id": "ee94006a0213328c"
  }
 ],
 "metadata": {
  "kernelspec": {
   "display_name": "Python 3",
   "language": "python",
   "name": "python3"
  },
  "language_info": {
   "codemirror_mode": {
    "name": "ipython",
    "version": 2
   },
   "file_extension": ".py",
   "mimetype": "text/x-python",
   "name": "python",
   "nbconvert_exporter": "python",
   "pygments_lexer": "ipython2",
   "version": "2.7.6"
  }
 },
 "nbformat": 4,
 "nbformat_minor": 5
}
